{
 "cells": [
  {
   "cell_type": "markdown",
   "metadata": {},
   "source": [
    "# ESMPy Tutorial\n",
    "#### Nathan Wendt"
   ]
  },
  {
   "cell_type": "markdown",
   "metadata": {},
   "source": [
    "ESMPy offers several features for taking data fields from one grid and interpolating it to another grid. Perhaps the easiest way is to load data in a SCRIP formatted file (most commonly seen in netCDF) into Python using this module. However, we do not always have our data formatted in this way. Many of us save our grids into less common formats (e.g., numpy compressed, etc.). What are we do do in these situations? Luckily, ESMPy has decent [documentation](http://www.earthsystemmodeling.org/esmf_releases/non_public/ESMF_7_0_0/esmpy_doc/html/index.html) and their email support is excellent.\n",
    "\n",
    "Below is an example of how to do some common regridding tasks using ESMPy:"
   ]
  },
  {
   "cell_type": "markdown",
   "metadata": {},
   "source": [
    "##### Imports"
   ]
  },
  {
   "cell_type": "code",
   "execution_count": null,
   "metadata": {
    "collapsed": false
   },
   "outputs": [],
   "source": [
    "import numpy as np\n",
    "import matplotlib.pyplot as plt\n",
    "from matplotlib import cm\n",
    "from mpl_toolkits.basemap import Basemap\n",
    "import ESMF\n",
    "%matplotlib inline"
   ]
  },
  {
   "cell_type": "markdown",
   "metadata": {},
   "source": [
    "Turn deubg output on."
   ]
  },
  {
   "cell_type": "code",
   "execution_count": null,
   "metadata": {
    "collapsed": false
   },
   "outputs": [],
   "source": [
    "ESMF.Manager(debug=True)"
   ]
  },
  {
   "cell_type": "markdown",
   "metadata": {},
   "source": [
    "##### Data"
   ]
  },
  {
   "cell_type": "code",
   "execution_count": null,
   "metadata": {
    "collapsed": true
   },
   "outputs": [],
   "source": [
    "# NAM\n",
    "nam = np.load('nam_218_20120414_1200_006.npz')\n",
    "\n",
    "# RUC\n",
    "ruc = np.load('ruc2_130_20120414_1200_006.npz')\n",
    "\n",
    "# SURFACE STATIONS\n",
    "sfc = np.load('sfcstn_20120414_1800.npz')\n",
    "\n",
    "# NAM CONUS MASK\n",
    "nam_mask = np.load('nam_218_conus_mask.npz')"
   ]
  },
  {
   "cell_type": "markdown",
   "metadata": {},
   "source": [
    "##### Grids"
   ]
  },
  {
   "cell_type": "code",
   "execution_count": null,
   "metadata": {
    "collapsed": true
   },
   "outputs": [],
   "source": [
    "nam_lat = nam['lat']\n",
    "nam_lon = nam['lon']\n",
    "nam_p4s = nam['p4s'].tolist()"
   ]
  },
  {
   "cell_type": "code",
   "execution_count": null,
   "metadata": {
    "collapsed": true
   },
   "outputs": [],
   "source": [
    "ruc_lat = ruc['lat']\n",
    "ruc_lon = ruc['lon']\n",
    "ruc_p4s = ruc['p4s'].tolist()"
   ]
  },
  {
   "cell_type": "code",
   "execution_count": null,
   "metadata": {
    "collapsed": true
   },
   "outputs": [],
   "source": [
    "mask = nam_mask['mask']"
   ]
  },
  {
   "cell_type": "markdown",
   "metadata": {},
   "source": [
    "Let's see how these two grids compare."
   ]
  },
  {
   "cell_type": "code",
   "execution_count": null,
   "metadata": {
    "collapsed": false
   },
   "outputs": [],
   "source": [
    "f1 = plt.figure(1,figsize=(16,9))\n",
    "plt.scatter(nam_lon, nam_lat, color = cm.viridis.colors[0], label = 'NAM 218')\n",
    "plt.scatter(ruc_lon, ruc_lat, color = cm.viridis.colors[164], label = 'RUC 130')\n",
    "plt.legend()"
   ]
  },
  {
   "cell_type": "markdown",
   "metadata": {},
   "source": [
    "## Interpolating From One Grid to Another"
   ]
  },
  {
   "cell_type": "markdown",
   "metadata": {},
   "source": [
    "A common regridding task is to take numerical model output on one grid and interpolate it to another. For this example, we will take 2 m dewpoint temperatures from the NAM and regrid it to the RUC grid. The example data are from April 14, 2012."
   ]
  },
  {
   "cell_type": "markdown",
   "metadata": {},
   "source": [
    "##### Initialize Grids"
   ]
  },
  {
   "cell_type": "markdown",
   "metadata": {},
   "source": [
    "We will need to create *Grid* objects for the two model grids we are using. Our **sourcegrid** will be from the **NAM** and our **destination** grid will be from the **RUC**. Our coordinates will be in the center of our gridpoints. As we are using latitude and longitude values, we will be using spherical coordinates."
   ]
  },
  {
   "cell_type": "code",
   "execution_count": null,
   "metadata": {
    "collapsed": false
   },
   "outputs": [],
   "source": [
    "sourcegrid = ESMF.Grid(np.array(nam_lat.shape), staggerloc = ESMF.StaggerLoc.CENTER, coord_sys = ESMF.CoordSys.SPH_DEG)"
   ]
  },
  {
   "cell_type": "code",
   "execution_count": null,
   "metadata": {
    "collapsed": true
   },
   "outputs": [],
   "source": [
    "destgrid = ESMF.Grid(np.array(ruc_lat.shape), staggerloc = ESMF.StaggerLoc.CENTER, coord_sys = ESMF.CoordSys.SPH_DEG)"
   ]
  },
  {
   "cell_type": "markdown",
   "metadata": {},
   "source": [
    "Right now, the *Grid* objects do not have any coordinates associated with them. We can add them easily."
   ]
  },
  {
   "cell_type": "code",
   "execution_count": null,
   "metadata": {
    "collapsed": true
   },
   "outputs": [],
   "source": [
    "source_lon = sourcegrid.get_coords(0)\n",
    "source_lat = sourcegrid.get_coords(1)\n",
    "\n",
    "dest_lon = destgrid.get_coords(0)\n",
    "dest_lat = destgrid.get_coords(1)"
   ]
  },
  {
   "cell_type": "markdown",
   "metadata": {},
   "source": [
    "At this point we now have **pointers** to the _Grid_ object coordinates. Be careful not to overwrite the pointer variable here. You need to tell it to put the values into the array that is pointed to."
   ]
  },
  {
   "cell_type": "code",
   "execution_count": null,
   "metadata": {
    "collapsed": true
   },
   "outputs": [],
   "source": [
    "source_lon[:] = nam_lon\n",
    "source_lat[:] = nam_lat\n",
    "\n",
    "dest_lon[:] = ruc_lon\n",
    "dest_lat[:] = ruc_lat"
   ]
  },
  {
   "cell_type": "markdown",
   "metadata": {},
   "source": [
    "##### Initialize Fields"
   ]
  },
  {
   "cell_type": "markdown",
   "metadata": {},
   "source": [
    "Once the *Grid* objects are created, we need to add data (at least to the source grid). To do this, we use *Field* objects."
   ]
  },
  {
   "cell_type": "code",
   "execution_count": null,
   "metadata": {
    "collapsed": true
   },
   "outputs": [],
   "source": [
    "sourcefield = ESMF.Field(sourcegrid, name = 'NAM 2 m DEWPOINT')\n",
    "\n",
    "destfield = ESMF.Field(destgrid, name = 'RUC 2 m DEWPOINT')"
   ]
  },
  {
   "cell_type": "markdown",
   "metadata": {},
   "source": [
    "Inserting the data is very simple. We will be using a 2 m dewpoint field (in Celsius) that was taken from the NAM grid."
   ]
  },
  {
   "cell_type": "code",
   "execution_count": null,
   "metadata": {
    "collapsed": false
   },
   "outputs": [],
   "source": [
    "sourcefield.data[:] = nam['dpc']"
   ]
  },
  {
   "cell_type": "markdown",
   "metadata": {},
   "source": [
    "##### Regrid"
   ]
  },
  {
   "cell_type": "markdown",
   "metadata": {},
   "source": [
    "Now we need to initialize a *Regrid* object."
   ]
  },
  {
   "cell_type": "code",
   "execution_count": null,
   "metadata": {
    "collapsed": false
   },
   "outputs": [],
   "source": [
    "regrid = ESMF.Regrid(sourcefield, destfield, regrid_method = ESMF.RegridMethod.BILINEAR, \n",
    "                     unmapped_action = ESMF.UnmappedAction.IGNORE)"
   ]
  },
  {
   "cell_type": "markdown",
   "metadata": {},
   "source": [
    "Initializing the regrid object calculates the weights that will map on grid to another."
   ]
  },
  {
   "cell_type": "code",
   "execution_count": null,
   "metadata": {
    "collapsed": true
   },
   "outputs": [],
   "source": [
    "destfield = regrid(sourcefield, destfield)"
   ]
  },
  {
   "cell_type": "markdown",
   "metadata": {},
   "source": [
    "How does the interpolation compare to the original?"
   ]
  },
  {
   "cell_type": "code",
   "execution_count": null,
   "metadata": {
    "collapsed": false
   },
   "outputs": [],
   "source": [
    "# Set up the maps\n",
    "nam_m = Basemap(llcrnrlon = nam_lon[0,0], llcrnrlat = nam_lat[0,0], urcrnrlon = nam_lon[-1,-1], \n",
    "                urcrnrlat = nam_lat[-1,-1], projection = nam_p4s['proj'], rsphere=(nam_p4s['a'], nam_p4s['b']),\n",
    "                lat_0 = nam_p4s['lat_0'], lat_1 = nam_p4s['lat_1'], lat_2 = nam_p4s['lat_2'], \n",
    "                lon_0 = nam_p4s['lon_0'], resolution = 'l')\n",
    "\n",
    "ruc_m = Basemap(llcrnrlon = ruc_lon[0,0], llcrnrlat = ruc_lat[0,0], urcrnrlon = ruc_lon[-1,-1], \n",
    "                urcrnrlat = ruc_lat[-1,-1], projection = ruc_p4s['proj'], rsphere=(ruc_p4s['a'], ruc_p4s['b']),\n",
    "                lat_0 = ruc_p4s['lat_0'], lat_1 = ruc_p4s['lat_1'], lat_2 = ruc_p4s['lat_2'], \n",
    "                lon_0 = ruc_p4s['lon_0'], resolution = 'l')"
   ]
  },
  {
   "cell_type": "code",
   "execution_count": null,
   "metadata": {
    "collapsed": true
   },
   "outputs": [],
   "source": [
    "nam_x, nam_y = nam_m(nam_lon, nam_lat)\n",
    "ruc_x, ruc_y = ruc_m(ruc_lon, ruc_lat)"
   ]
  },
  {
   "cell_type": "code",
   "execution_count": null,
   "metadata": {
    "collapsed": false
   },
   "outputs": [],
   "source": [
    "f2 = plt.figure(2, figsize=(16,9))\n",
    "\n",
    "s1 = plt.subplot(121)\n",
    "s1.set_title('NAM 218')\n",
    "nam_m.pcolormesh(nam_x, nam_y, sourcefield.data, cmap = 'gist_ncar', vmax = 25, vmin = -25)\n",
    "nam_m.drawstates()\n",
    "nam_m.drawcountries()\n",
    "nam_m.drawcoastlines()\n",
    "ncb = nam_m.colorbar()\n",
    "ncb.set_label('DWPT [C]')\n",
    "\n",
    "s2 = plt.subplot(122)\n",
    "s2.set_title('RUC 130')\n",
    "ruc_m.pcolormesh(ruc_x, ruc_y, destfield.data, cmap = 'gist_ncar', vmax = 25, vmin = -25)\n",
    "ruc_m.drawstates()\n",
    "ruc_m.drawcountries()\n",
    "ruc_m.drawcoastlines()\n",
    "rcb = ruc_m.colorbar()\n",
    "rcb.set_label('DWPT [C]')"
   ]
  },
  {
   "cell_type": "markdown",
   "metadata": {},
   "source": [
    "## Interpolating Points to a Grid"
   ]
  },
  {
   "cell_type": "markdown",
   "metadata": {},
   "source": [
    "Above, we loaded some surface station data that is not on any grid. We can regrid that to one of the model grids."
   ]
  },
  {
   "cell_type": "code",
   "execution_count": null,
   "metadata": {
    "collapsed": false
   },
   "outputs": [],
   "source": [
    "sourceloc = ESMF.LocStream(len(sfc['dpc']), coord_sys = ESMF.CoordSys.SPH_DEG, \n",
    "                           name = 'Surface Station Dewpoint')"
   ]
  },
  {
   "cell_type": "markdown",
   "metadata": {},
   "source": [
    "Now we will need to add the coordinates. In *LocStream* objects (unstructured points), these are accessed using dictionary keys."
   ]
  },
  {
   "cell_type": "code",
   "execution_count": null,
   "metadata": {
    "collapsed": true
   },
   "outputs": [],
   "source": [
    "sourceloc['ESMF:Lat'] = sfc['lat']\n",
    "sourceloc['ESMF:Lon'] = sfc['lon']"
   ]
  },
  {
   "cell_type": "markdown",
   "metadata": {},
   "source": [
    "In this case, the surface data has some missing points. They are denoted by values of -9999. We can easily mask these values."
   ]
  },
  {
   "cell_type": "code",
   "execution_count": null,
   "metadata": {
    "collapsed": false
   },
   "outputs": [],
   "source": [
    "# Where are the missing data?\n",
    "missing = -9999\n",
    "miss_loc = (sfc['dpc'] != missing).astype(np.int32)\n",
    "\n",
    "# Define the mask in the LocStream\n",
    "sourceloc['ESMF:Mask'] = miss_loc"
   ]
  },
  {
   "cell_type": "markdown",
   "metadata": {},
   "source": [
    "In order to insert the data and do the regrid of the points, we need to make a *Field* object based on our *LocStream* object."
   ]
  },
  {
   "cell_type": "code",
   "execution_count": null,
   "metadata": {
    "collapsed": true
   },
   "outputs": [],
   "source": [
    "sourcefield_pts = ESMF.Field(sourceloc, name = 'Surface Station Dewpoints')\n",
    "sourcefield_pts.data[:] = sfc['dpc']"
   ]
  },
  {
   "cell_type": "markdown",
   "metadata": {},
   "source": [
    "Because we now have data that does not extend beyond the CONUS, it would to add a mask to avoid undesired extrapolation. We can add a mask to the original NAM grid and use it here."
   ]
  },
  {
   "cell_type": "code",
   "execution_count": null,
   "metadata": {
    "collapsed": false
   },
   "outputs": [],
   "source": [
    "sourcegrid_masked = sourcegrid.copy()\n",
    "source_mask = sourcegrid_masked.add_item(ESMF.GridItem.MASK)\n",
    "source_mask[:] = mask"
   ]
  },
  {
   "cell_type": "markdown",
   "metadata": {},
   "source": [
    "Create a new *Grid* and *Regrid* objects and proceed as before."
   ]
  },
  {
   "cell_type": "code",
   "execution_count": null,
   "metadata": {
    "collapsed": false
   },
   "outputs": [],
   "source": [
    "destfield2 = ESMF.Field(sourcegrid_masked, name = 'ASOS to NAM 218 Dewpoints')\n",
    "\n",
    "# Initialize destination field to value outside data range for easy masking later\n",
    "destfield2.data[:] = 1e20"
   ]
  },
  {
   "cell_type": "markdown",
   "metadata": {},
   "source": [
    "As of right now, only **nearest neighbor** interpolation can be used when using *LocStream* objects for the source data."
   ]
  },
  {
   "cell_type": "code",
   "execution_count": null,
   "metadata": {
    "collapsed": false
   },
   "outputs": [],
   "source": [
    "regrid2 = ESMF.Regrid(sourcefield_pts,destfield2, regrid_method = ESMF.RegridMethod.NEAREST_STOD, \n",
    "                      unmapped_action = ESMF.UnmappedAction.IGNORE, dst_mask_values=np.array([0,-9999]))"
   ]
  },
  {
   "cell_type": "code",
   "execution_count": null,
   "metadata": {
    "collapsed": false
   },
   "outputs": [],
   "source": [
    "# Use the ESMF.Region.SELECT to leave unmapped points as their current values (which will be 1e20)\n",
    "destfield2 = regrid2(sourcefield_pts, destfield2, zero_region = ESMF.Region.SELECT)"
   ]
  },
  {
   "cell_type": "markdown",
   "metadata": {},
   "source": [
    "How do the gridded surface observations compare to the model forecast field?"
   ]
  },
  {
   "cell_type": "code",
   "execution_count": null,
   "metadata": {
    "collapsed": false
   },
   "outputs": [],
   "source": [
    "# First, some masking voodoo for comparison purposes\n",
    "nam_masked = np.ma.array(sourcefield.data)\n",
    "nam_masked.mask = ~np.ma.make_mask(mask)\n",
    "\n",
    "# Because we initially set the field to 1e20, we can \n",
    "# now use that to mask outside the CONUS easily without\n",
    "# worrying about taking out real data\n",
    "asos_masked = np.ma.masked_equal(destfield2.data, 1e20)\n",
    "asos_masked = np.ma.masked_equal(asos_masked, -9999.0)"
   ]
  },
  {
   "cell_type": "code",
   "execution_count": null,
   "metadata": {
    "collapsed": false
   },
   "outputs": [],
   "source": [
    "f3 = plt.figure(3, figsize=(16,9))\n",
    "\n",
    "s1 = plt.subplot(121)\n",
    "s1.set_title('ASOS 2 M DWPT 041412/1800')\n",
    "nam_m.pcolormesh(nam_x, nam_y, asos_masked, cmap = 'gist_ncar', vmax = 25, vmin = -25)\n",
    "nam_m.drawstates()\n",
    "nam_m.drawcountries()\n",
    "nam_m.drawcoastlines()\n",
    "ncb = nam_m.colorbar()\n",
    "ncb.set_label('DWPT [C]')\n",
    "\n",
    "s2 = plt.subplot(122)\n",
    "s2.set_title('NAM 2 M DWPT 041412/1800')\n",
    "nam_m.pcolormesh(nam_x, nam_y, nam_masked, cmap = 'gist_ncar', vmax = 25, vmin = -25)\n",
    "nam_m.drawstates()\n",
    "nam_m.drawcountries()\n",
    "nam_m.drawcoastlines()\n",
    "rcb = ruc_m.colorbar()\n",
    "rcb.set_label('DWPT [C]')"
   ]
  },
  {
   "cell_type": "markdown",
   "metadata": {},
   "source": [
    "And in a difference plot..."
   ]
  },
  {
   "cell_type": "code",
   "execution_count": null,
   "metadata": {
    "collapsed": false
   },
   "outputs": [],
   "source": [
    "f4 = plt.figure(4, figsize=(16,9))\n",
    "plt.title('NAM - ASOS DWPT 041412/1800')\n",
    "nam_m.pcolormesh(nam_x, nam_y, nam_masked - asos_masked, cmap = 'bwr', vmin = -25, vmax = 25)\n",
    "nam_m.drawstates()\n",
    "nam_m.drawcountries()\n",
    "nam_m.drawcoastlines()\n",
    "ncb = nam_m.colorbar()\n",
    "ncb.set_label('DWPT DIFF [C]')"
   ]
  },
  {
   "cell_type": "markdown",
   "metadata": {
    "collapsed": true
   },
   "source": [
    "## Grid to LocStream"
   ]
  },
  {
   "cell_type": "markdown",
   "metadata": {},
   "source": [
    "Another useful operation we can do with ESMPy is to pull values from specific points. Let's set up a few coordinates for some cities."
   ]
  },
  {
   "cell_type": "code",
   "execution_count": null,
   "metadata": {
    "collapsed": true
   },
   "outputs": [],
   "source": [
    "marshall = (43.171111, -89.064722)\n",
    "lacrosse = (43.813333, -91.233056)\n",
    "lawrence = (38.866667, -95.233333)\n",
    "urbana = (40.109665, -88.204247)\n",
    "norman = (35.22, -97.44)"
   ]
  },
  {
   "cell_type": "code",
   "execution_count": null,
   "metadata": {
    "collapsed": false
   },
   "outputs": [],
   "source": [
    "town_lat = np.array([marshall[0], lacrosse[0], lawrence[0], urbana[0], norman[0]])\n",
    "town_lon = np.array([marshall[1], lacrosse[1], lawrence[1], urbana[1], norman[1]])"
   ]
  },
  {
   "cell_type": "markdown",
   "metadata": {},
   "source": [
    "Create the *LocStream* and populate the coordinates."
   ]
  },
  {
   "cell_type": "code",
   "execution_count": null,
   "metadata": {
    "collapsed": true
   },
   "outputs": [],
   "source": [
    "town_loc = ESMF.LocStream(5, coord_sys = ESMF.CoordSys.SPH_DEG, name = 'Town Locations')"
   ]
  },
  {
   "cell_type": "code",
   "execution_count": null,
   "metadata": {
    "collapsed": true
   },
   "outputs": [],
   "source": [
    "town_loc['ESMF:Lat'] = town_lat\n",
    "town_loc['ESMF:Lon'] = town_lon"
   ]
  },
  {
   "cell_type": "markdown",
   "metadata": {},
   "source": [
    "Again, create a *Field* based on the town *LocStream*."
   ]
  },
  {
   "cell_type": "code",
   "execution_count": null,
   "metadata": {
    "collapsed": true
   },
   "outputs": [],
   "source": [
    "town_data = ESMF.Field(town_loc, name = 'Town 2 m NAM Dewpoint')"
   ]
  },
  {
   "cell_type": "markdown",
   "metadata": {},
   "source": [
    "Regrid using the NAM 2 M dewpoint data that we have from earlier."
   ]
  },
  {
   "cell_type": "code",
   "execution_count": null,
   "metadata": {
    "collapsed": true
   },
   "outputs": [],
   "source": [
    "regrid3 = ESMF.Regrid(sourcefield,town_data, regrid_method = ESMF.RegridMethod.BILINEAR, \n",
    "                      unmapped_action = ESMF.UnmappedAction.IGNORE)"
   ]
  },
  {
   "cell_type": "code",
   "execution_count": null,
   "metadata": {
    "collapsed": true
   },
   "outputs": [],
   "source": [
    "town_data = regrid3(sourcefield, town_data)"
   ]
  },
  {
   "cell_type": "markdown",
   "metadata": {},
   "source": [
    "And display the data."
   ]
  },
  {
   "cell_type": "code",
   "execution_count": null,
   "metadata": {
    "collapsed": false
   },
   "outputs": [],
   "source": [
    "print(\"\"\"\n",
    "--- Extracted NAM 2 m Dewpoints ---\n",
    "Marshall, WI   : {:5.3f} C\n",
    "La Crosse, WI  : {:5.3f} C\n",
    "Lawrence, KS   : {:5.3f} C\n",
    "Urbana, IL     : {:5.3f} C\n",
    "Norman, OK     : {:5.3f} C\n",
    "\"\"\".format(*town_data.data))"
   ]
  },
  {
   "cell_type": "markdown",
   "metadata": {},
   "source": [
    "## Other Features"
   ]
  },
  {
   "cell_type": "markdown",
   "metadata": {},
   "source": [
    "ESMPy also has other capabilities not shown here. For example,\n",
    "+ Regrid to and from meshes (think MPAS!)\n",
    "+ Regrid in parallel\n",
    "+ Read from files (netCDF, etc.) and automatically set up coordinates"
   ]
  }
 ],
 "metadata": {
  "kernelspec": {
   "display_name": "Python 2",
   "language": "python",
   "name": "python2"
  },
  "language_info": {
   "codemirror_mode": {
    "name": "ipython",
    "version": 2
   },
   "file_extension": ".py",
   "mimetype": "text/x-python",
   "name": "python",
   "nbconvert_exporter": "python",
   "pygments_lexer": "ipython2",
   "version": "2.7.12"
  }
 },
 "nbformat": 4,
 "nbformat_minor": 0
}
